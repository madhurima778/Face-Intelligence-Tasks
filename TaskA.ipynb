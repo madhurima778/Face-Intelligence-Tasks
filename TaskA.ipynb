{
 "cells": [
  {
   "cell_type": "markdown",
   "metadata": {},
   "source": [
    "**Task A**"
   ]
  },
  {
   "cell_type": "code",
   "execution_count": 1,
   "metadata": {
    "execution": {
     "iopub.execute_input": "2025-06-28T16:28:49.050824Z",
     "iopub.status.busy": "2025-06-28T16:28:49.050538Z",
     "iopub.status.idle": "2025-06-28T16:28:57.680370Z",
     "shell.execute_reply": "2025-06-28T16:28:57.679565Z",
     "shell.execute_reply.started": "2025-06-28T16:28:49.050797Z"
    },
    "trusted": true
   },
   "outputs": [],
   "source": [
    "# Gender Classification using ResNet18 with Augmentation and Weighted Sampling\n",
    "# --------------------------------------------------\n",
    "# This notebook trains a gender classification model using a real-world image dataset.\n",
    "# It handles class imbalance with a WeightedRandomSampler and evaluates on a test set.\n",
    "\n",
    "import os\n",
    "import torch\n",
    "import torch.nn as nn\n",
    "import torch.optim as optim\n",
    "from torchvision import datasets, transforms, models\n",
    "from torch.utils.data import DataLoader, WeightedRandomSampler\n",
    "from PIL import Image\n",
    "import numpy as np\n",
    "import copy\n",
    "from sklearn.metrics import classification_report, confusion_matrix, ConfusionMatrixDisplay\n",
    "import matplotlib.pyplot as plt\n",
    "import argparse\n"
   ]
  },
  {
   "cell_type": "code",
   "execution_count": 2,
   "metadata": {
    "execution": {
     "iopub.execute_input": "2025-06-28T16:28:57.682566Z",
     "iopub.status.busy": "2025-06-28T16:28:57.682272Z",
     "iopub.status.idle": "2025-06-28T16:28:57.778486Z",
     "shell.execute_reply": "2025-06-28T16:28:57.777448Z",
     "shell.execute_reply.started": "2025-06-28T16:28:57.682549Z"
    },
    "trusted": true
   },
   "outputs": [
    {
     "name": "stdout",
     "output_type": "stream",
     "text": [
      "Using device: cuda\n"
     ]
    }
   ],
   "source": [
    "# ---------------------- SETUP ----------------------\n",
    "num_classes = 2\n",
    "batch_size = 16\n",
    "num_epochs = 10\n",
    "learning_rate = 0.001\n",
    "\n",
    "# Check device\n",
    "device = torch.device(\"cuda\" if torch.cuda.is_available() else \"cpu\")\n",
    "print(f\"Using device: {device}\")"
   ]
  },
  {
   "cell_type": "code",
   "execution_count": 3,
   "metadata": {
    "execution": {
     "iopub.execute_input": "2025-06-28T16:28:57.780044Z",
     "iopub.status.busy": "2025-06-28T16:28:57.779441Z",
     "iopub.status.idle": "2025-06-28T16:28:57.922065Z",
     "shell.execute_reply": "2025-06-28T16:28:57.921231Z",
     "shell.execute_reply.started": "2025-06-28T16:28:57.780015Z"
    },
    "trusted": true
   },
   "outputs": [],
   "source": [
    "# ---------------------- TRANSFORMS ----------------------\n",
    "# Data augmentation for training\n",
    "train_transform = transforms.Compose([\n",
    "    transforms.Resize((224, 224)),\n",
    "    transforms.RandomHorizontalFlip(),\n",
    "    transforms.RandomRotation(10),\n",
    "    transforms.ColorJitter(brightness=0.2, contrast=0.2),\n",
    "    transforms.ToTensor(),\n",
    "    transforms.Normalize(mean=[0.485, 0.456, 0.406],\n",
    "                         std=[0.229, 0.224, 0.225])\n",
    "])\n",
    "\n",
    "# For validation and testing\n",
    "val_test_transform = transforms.Compose([\n",
    "    transforms.Resize((224, 224)),\n",
    "    transforms.ToTensor(),\n",
    "    transforms.Normalize(mean=[0.485, 0.456, 0.406],\n",
    "                         std=[0.229, 0.224, 0.225])\n",
    "])\n"
   ]
  },
  {
   "cell_type": "code",
   "execution_count": 4,
   "metadata": {
    "execution": {
     "iopub.execute_input": "2025-06-28T16:28:57.923092Z",
     "iopub.status.busy": "2025-06-28T16:28:57.922842Z",
     "iopub.status.idle": "2025-06-28T16:28:57.937757Z",
     "shell.execute_reply": "2025-06-28T16:28:57.937204Z",
     "shell.execute_reply.started": "2025-06-28T16:28:57.923062Z"
    },
    "trusted": true
   },
   "outputs": [],
   "source": [
    "# ---------------------- MODEL DEFINITION ----------------------\n",
    "def get_model():\n",
    "    model = models.resnet18(weights=models.ResNet18_Weights.DEFAULT)\n",
    "    model.fc = nn.Sequential(\n",
    "        nn.Dropout(0.4),\n",
    "        nn.Linear(model.fc.in_features, num_classes)\n",
    "    )\n",
    "    return model.to(device)\n"
   ]
  },
  {
   "cell_type": "code",
   "execution_count": 5,
   "metadata": {
    "execution": {
     "iopub.execute_input": "2025-06-28T16:28:57.938749Z",
     "iopub.status.busy": "2025-06-28T16:28:57.938520Z",
     "iopub.status.idle": "2025-06-28T16:28:57.951432Z",
     "shell.execute_reply": "2025-06-28T16:28:57.950679Z",
     "shell.execute_reply.started": "2025-06-28T16:28:57.938734Z"
    },
    "trusted": true
   },
   "outputs": [],
   "source": [
    "# ---------------------- TRAINING FUNCTION ----------------------\n",
    "def train_model(train_dir, val_dir):\n",
    "    # Load datasets\n",
    "    train_dataset = datasets.ImageFolder(train_dir, transform=train_transform)\n",
    "    val_dataset = datasets.ImageFolder(val_dir, transform=val_test_transform)\n",
    "    class_names = train_dataset.classes\n",
    "\n",
    "    # Weighted sampler\n",
    "    targets = [label for _, label in train_dataset.samples]\n",
    "    class_counts = np.bincount(targets)\n",
    "    class_weights = 1. / class_counts\n",
    "    sample_weights = [class_weights[label] for label in targets]\n",
    "    sampler = WeightedRandomSampler(sample_weights, num_samples=len(sample_weights), replacement=True)\n",
    "\n",
    "    # Loaders\n",
    "    train_loader = DataLoader(train_dataset, batch_size=batch_size, sampler=sampler)\n",
    "    val_loader = DataLoader(val_dataset, batch_size=1, shuffle=False)\n",
    "\n",
    "    model = get_model()\n",
    "    criterion = nn.CrossEntropyLoss()\n",
    "    optimizer = optim.Adam(model.parameters(), lr=learning_rate)\n",
    "\n",
    "    best_acc = 0.0\n",
    "    best_model_wts = copy.deepcopy(model.state_dict())\n",
    "\n",
    "    print(\"Training started...\\n\")\n",
    "    for epoch in range(num_epochs):\n",
    "        model.train()\n",
    "        running_loss, correct = 0.0, 0\n",
    "\n",
    "        for images, labels in train_loader:\n",
    "            images, labels = images.to(device), labels.to(device)\n",
    "            optimizer.zero_grad()\n",
    "\n",
    "            outputs = model(images)\n",
    "            loss = criterion(outputs, labels)\n",
    "            loss.backward()\n",
    "            optimizer.step()\n",
    "\n",
    "            running_loss += loss.item()\n",
    "            correct += (outputs.argmax(1) == labels).sum().item()\n",
    "\n",
    "        train_acc = correct / len(train_dataset)\n",
    "\n",
    "        # Validation\n",
    "        model.eval()\n",
    "        val_correct = 0\n",
    "        with torch.no_grad():\n",
    "            for i, (image, label) in enumerate(val_loader):\n",
    "                image, label = image.to(device), label.to(device)\n",
    "                output = model(image)\n",
    "                pred = torch.argmax(output, dim=1)\n",
    "                if pred.item() == label.item():\n",
    "                    val_correct += 1\n",
    "\n",
    "        val_acc = val_correct / len(val_dataset)\n",
    "\n",
    "        if val_acc > best_acc:\n",
    "            best_acc = val_acc\n",
    "            best_model_wts = copy.deepcopy(model.state_dict())\n",
    "\n",
    "        print(f\"Epoch {epoch+1}/{num_epochs} | Train Acc: {train_acc:.4f} | Val Acc: {val_acc:.4f}\")\n",
    "\n",
    "    model.load_state_dict(best_model_wts)\n",
    "    torch.save(model.state_dict(), \"best_gender_model.pth\")\n",
    "    print(f\"\\n✅ Best Validation Accuracy: {best_acc:.4f}\\nModel saved as 'best_gender_model.pth'\\n\")\n",
    "\n",
    "    # ---------- EVALUATION ON VALIDATION SET ----------\n",
    "    model.eval()\n",
    "    all_preds = []\n",
    "    all_labels = []\n",
    "\n",
    "    with torch.no_grad():\n",
    "        for image, label in val_loader:\n",
    "            image = image.to(device)\n",
    "            label = label.to(device)\n",
    "            output = model(image)\n",
    "            pred = torch.argmax(output, dim=1)\n",
    "\n",
    "            all_preds.append(pred.item())\n",
    "            all_labels.append(label.item())\n",
    "\n",
    "    print(\"\\n📊 Classification Report (Validation Set):\\n\")\n",
    "    print(classification_report(all_labels, all_preds, target_names=class_names))\n",
    "\n",
    "    cm = confusion_matrix(all_labels, all_preds)\n",
    "    disp = ConfusionMatrixDisplay(confusion_matrix=cm, display_labels=class_names)\n",
    "    disp.plot(cmap='Blues')\n",
    "    plt.title(\"Confusion Matrix on Validation Set\")\n",
    "    plt.show()\n",
    "\n",
    "    return class_names"
   ]
  },
  {
   "cell_type": "code",
   "execution_count": 6,
   "metadata": {
    "execution": {
     "iopub.execute_input": "2025-06-28T16:28:57.952596Z",
     "iopub.status.busy": "2025-06-28T16:28:57.952331Z",
     "iopub.status.idle": "2025-06-28T16:28:57.970736Z",
     "shell.execute_reply": "2025-06-28T16:28:57.969983Z",
     "shell.execute_reply.started": "2025-06-28T16:28:57.952574Z"
    },
    "trusted": true
   },
   "outputs": [],
   "source": [
    "# ---------------------- TEST FUNCTION ----------------------\n",
    "def test_model(test_dir, class_names):\n",
    "    test_dataset = datasets.ImageFolder(test_dir, transform=val_test_transform)\n",
    "    test_loader = DataLoader(test_dataset, batch_size=1, shuffle=False)\n",
    "\n",
    "    model = get_model()\n",
    "    model.load_state_dict(torch.load(\"best_gender_model.pth\", map_location=device))\n",
    "    model.eval()\n",
    "\n",
    "    all_preds = []\n",
    "    all_labels = []\n",
    "    with torch.no_grad():\n",
    "        for image, label in test_loader:\n",
    "            image = image.to(device)\n",
    "            output = model(image)\n",
    "            pred = torch.argmax(output, dim=1).cpu().item()\n",
    "            all_preds.append(pred)\n",
    "            all_labels.append(label.item())\n",
    "\n",
    "    # Evaluation metrics\n",
    "    report = classification_report(all_labels, all_preds, target_names=class_names, digits=4)\n",
    "    cm = confusion_matrix(all_labels, all_preds)\n",
    "    print(\"\\n📊 Classification Report (Test Set):\\n\")\n",
    "    print(report)\n",
    "\n",
    "    # Confusion Matrix\n",
    "    disp = ConfusionMatrixDisplay(confusion_matrix=cm, display_labels=class_names)\n",
    "    disp.plot(cmap='Blues')\n",
    "    plt.title(\"Confusion Matrix on Test Set\")\n",
    "    plt.show()\n"
   ]
  },
  {
   "cell_type": "code",
   "execution_count": null,
   "metadata": {
    "execution": {
     "iopub.execute_input": "2025-06-28T16:28:57.972685Z",
     "iopub.status.busy": "2025-06-28T16:28:57.972427Z",
     "iopub.status.idle": "2025-06-28T16:34:28.083446Z",
     "shell.execute_reply": "2025-06-28T16:34:28.082849Z",
     "shell.execute_reply.started": "2025-06-28T16:28:57.972668Z"
    },
    "trusted": true
   },
   "outputs": [
    {
     "name": "stderr",
     "output_type": "stream",
     "text": [
      "Downloading: \"https://download.pytorch.org/models/resnet18-f37072fd.pth\" to /root/.cache/torch/hub/checkpoints/resnet18-f37072fd.pth\n",
      "100%|██████████| 44.7M/44.7M [00:00<00:00, 148MB/s] \n"
     ]
    },
    {
     "name": "stdout",
     "output_type": "stream",
     "text": [
      "Training started...\n",
      "\n",
      "Epoch 1/10 | Train Acc: 0.8801 | Val Acc: 0.8341\n",
      "Epoch 2/10 | Train Acc: 0.9309 | Val Acc: 0.9336\n",
      "Epoch 3/10 | Train Acc: 0.9434 | Val Acc: 0.9147\n",
      "Epoch 4/10 | Train Acc: 0.9486 | Val Acc: 0.9242\n",
      "Epoch 5/10 | Train Acc: 0.9600 | Val Acc: 0.5924\n",
      "Epoch 6/10 | Train Acc: 0.9564 | Val Acc: 0.9384\n",
      "Epoch 7/10 | Train Acc: 0.9673 | Val Acc: 0.9242\n",
      "Epoch 8/10 | Train Acc: 0.9439 | Val Acc: 0.9147\n",
      "Epoch 9/10 | Train Acc: 0.9590 | Val Acc: 0.9265\n",
      "Epoch 10/10 | Train Acc: 0.9642 | Val Acc: 0.9218\n",
      "\n",
      "✅ Best Validation Accuracy: 0.9384\n",
      "Model saved as 'best_gender_model.pth'\n",
      "\n",
      "\n",
      "📊 Classification Report (Validation Set):\n",
      "\n",
      "              precision    recall  f1-score   support\n",
      "\n",
      "      female       0.81      0.87      0.84        79\n",
      "        male       0.97      0.95      0.96       343\n",
      "\n",
      "    accuracy                           0.94       422\n",
      "   macro avg       0.89      0.91      0.90       422\n",
      "weighted avg       0.94      0.94      0.94       422\n",
      "\n"
     ]
    },
    {
     "data": {
      "image/png": "[encoded data removed]",
      "text/plain": [
       "<Figure size 640x480 with 2 Axes>"
      ]
     },
     "metadata": {},
     "output_type": "display_data"
    }
   ],
   "source": [
    "# ---------------------- MAIN ENTRY ----------------------\n",
    "if __name__ == '__main__':\n",
    "    # Sample Usage (replace with your actual paths):\n",
    "    train_dir = \"./train\"\n",
    "    val_dir = \"./val\"\n",
    "    # Give your test directory path here, of same structure as validation\n",
    "    test_dir = \"./val\"  # Optional, if you do not have a separate test set\n",
    "\n",
    "    # Train the model and get class names\n",
    "    class_names = train_model(train_dir, val_dir)\n",
    "\n",
    "    # Test the saved model on test data\n",
    "    test_model(test_dir, class_names)\n"
   ]
  }
 ],
 "metadata": {
  "kaggle": {
   "accelerator": "nvidiaTeslaT4",
   "dataSources": [
    {
     "datasetId": 7755955,
     "sourceId": 12304824,
     "sourceType": "datasetVersion"
    }
   ],
   "dockerImageVersionId": 31040,
   "isGpuEnabled": true,
   "isInternetEnabled": true,
   "language": "python",
   "sourceType": "notebook"
  },
  "kernelspec": {
   "display_name": "Python 3",
   "language": "python",
   "name": "python3"
  },
  "language_info": {
   "codemirror_mode": {
    "name": "ipython",
    "version": 3
   },
   "file_extension": ".py",
   "mimetype": "text/x-python",
   "name": "python",
   "nbconvert_exporter": "python",
   "pygments_lexer": "ipython3",
   "version": "3.11.11"
  }
 },
 "nbformat": 4,
 "nbformat_minor": 4
}
